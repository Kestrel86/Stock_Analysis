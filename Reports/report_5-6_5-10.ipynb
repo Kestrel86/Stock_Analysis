{
 "cells": [
  {
   "cell_type": "code",
   "execution_count": null,
   "metadata": {},
   "outputs": [],
   "source": [
    "import numpy as np\n",
    "import pandas as pd\n",
    "import seaborn as sns\n",
    "import plotly.express as px\n",
    "import plotly.graph_objects as go\n",
    "import matplotlib.pyplot as plt\n",
    "\n",
    "from datetime import datetime\n",
    "\n",
    "# yahoo Finance API library (useful?)\n",
    "import yfinance as yf\n",
    "\n",
    "import warnings\n",
    "warnings.filterwarnings(\"ignore\")\n",
    "\n",
    "from sklearn.metrics import mean_squared_error, r2_score\n",
    "from sklearn.preprocessing import MinMaxScaler\n",
    "from sklearn.model_selection import train_test_split\n",
    "\n",
    "from keras.models import Sequential\n",
    "from keras.layers import Dense, LSTM\n",
    "\n",
    "from pandas_datareader import data as pdr\n",
    "yf.pdr_override()"
   ]
  },
  {
   "cell_type": "markdown",
   "metadata": {},
   "source": [
    "Correlation analysis for 2 groups\n",
    "Amazon, Google, Microsoft - The usual big 3, how connected are they\n",
    "Nvidia, AMD, Intel - Microcontrollers and AI boom\n",
    "\n",
    "Desire to invest into Microsoft, Amazon, Intel as my trades"
   ]
  },
  {
   "cell_type": "code",
   "execution_count": null,
   "metadata": {},
   "outputs": [],
   "source": [
    "cpu_list = ['NVDA', 'INTC','AMD']\n",
    "\n",
    "comp_list = ['GOOG','MSFT','AMZN']\n",
    "\n",
    "end = datetime.now()\n",
    "start = datetime(end.year - 3, end.month, end.day)"
   ]
  },
  {
   "cell_type": "code",
   "execution_count": null,
   "metadata": {},
   "outputs": [],
   "source": [
    "for stock in cpu_list:\n",
    "    globals()[stock] = yf.download(stock, start, end)\n",
    "\n",
    "df_nvda = globals()['NVDA']\n",
    "df_amd = globals()['AMD']\n",
    "df_intc = globals()['INTC']"
   ]
  },
  {
   "cell_type": "code",
   "execution_count": null,
   "metadata": {},
   "outputs": [],
   "source": [
    "for stock in comp_list:\n",
    "    globals()[stock] = yf.download(stock, start, end)\n",
    "\n",
    "df_msft = globals()['MSFT']\n",
    "df_amzn = globals()['AMZN']\n",
    "df_goog = globals()['GOOG']"
   ]
  },
  {
   "cell_type": "code",
   "execution_count": null,
   "metadata": {},
   "outputs": [],
   "source": [
    "window_size = 60\n",
    "\n",
    "# Define the LSTM model\n",
    "model = Sequential([\n",
    "    LSTM(units=50, activation='relu', input_shape=(window_size, 1)),\n",
    "    Dense(units=1)\n",
    "])\n",
    "\n",
    "# Compile the model\n",
    "model.compile(optimizer='adam', loss='mse')"
   ]
  },
  {
   "cell_type": "markdown",
   "metadata": {},
   "source": [
    "## Analysis of Intel, Nvidia, and AMD"
   ]
  },
  {
   "cell_type": "code",
   "execution_count": null,
   "metadata": {},
   "outputs": [],
   "source": []
  }
 ],
 "metadata": {
  "kernelspec": {
   "display_name": "base",
   "language": "python",
   "name": "python3"
  },
  "language_info": {
   "name": "python",
   "version": "3.11.7"
  }
 },
 "nbformat": 4,
 "nbformat_minor": 2
}
