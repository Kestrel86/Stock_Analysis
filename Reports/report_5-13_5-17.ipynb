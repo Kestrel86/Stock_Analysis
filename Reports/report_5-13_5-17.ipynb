{
 "cells": [
  {
   "cell_type": "code",
   "execution_count": null,
   "metadata": {},
   "outputs": [],
   "source": [
    "import numpy as np\n",
    "import pandas as pd\n",
    "import seaborn as sns\n",
    "import plotly.express as px\n",
    "import plotly.graph_objects as go\n",
    "import matplotlib.pyplot as plt\n",
    "\n",
    "from datetime import datetime\n",
    "\n",
    "# yahoo Finance API library (useful?)\n",
    "import yfinance as yf\n",
    "\n",
    "import warnings\n",
    "warnings.filterwarnings(\"ignore\")\n",
    "\n",
    "from sklearn.metrics import mean_squared_error, r2_score\n",
    "from sklearn.preprocessing import MinMaxScaler\n",
    "from sklearn.model_selection import train_test_split\n",
    "\n",
    "from keras.models import Sequential\n",
    "from keras.layers import Dense, LSTM\n",
    "\n",
    "from pandas_datareader import data as pdr\n",
    "yf.pdr_override()"
   ]
  },
  {
   "cell_type": "markdown",
   "metadata": {},
   "source": [
    "Investigate further stocks regarding the chip industry such as TSM"
   ]
  },
  {
   "cell_type": "code",
   "execution_count": null,
   "metadata": {},
   "outputs": [],
   "source": [
    "cpu_list = ['NVDA', 'INTC','AMD', 'TSM']\n",
    "\n",
    "end = datetime.now()\n",
    "start = datetime(end.year - 3, end.month, end.day)"
   ]
  },
  {
   "cell_type": "code",
   "execution_count": null,
   "metadata": {},
   "outputs": [],
   "source": [
    "for stock in cpu_list:\n",
    "    globals()[stock] = yf.download(stock, start, end)\n",
    "\n",
    "df_nvda = globals()['NVDA']\n",
    "df_amd = globals()['AMD']\n",
    "df_intc = globals()['INTC']\n",
    "df_tsm = globals()['TSM']"
   ]
  },
  {
   "cell_type": "markdown",
   "metadata": {},
   "source": [
    "#### Model Preparation \n",
    "\n",
    "Spreads data to five years instead of three years"
   ]
  },
  {
   "cell_type": "code",
   "execution_count": null,
   "metadata": {},
   "outputs": [],
   "source": [
    "def preprocess_data(stock_symbol, epochs=100, batch_size=32, window_size=60):\n",
    "    # Fetch data\n",
    "    end = datetime.now()\n",
    "    start = datetime(end.year - 5, end.month, end.day)\n",
    "    df = pdr.get_data_yahoo(stock_symbol, start=start, end=end)\n",
    "\n",
    "    data = df.filter(['Close'])\n",
    "    dataset = data.values\n",
    "    training_data_len = int(np.ceil(len(dataset) * .95))\n",
    "\n",
    "    scaler = MinMaxScaler()\n",
    "    scaled_data = scaler.fit_transform(dataset)\n",
    "\n",
    "    X, y = [], []\n",
    "    for i in range(len(scaled_data) - window_size):\n",
    "        X.append(scaled_data[i:i+window_size])\n",
    "        y.append(scaled_data[i+window_size])\n",
    "\n",
    "    X, y = np.array(X), np.array(y)\n",
    "\n",
    "    X_train, X_test, y_train, y_test = train_test_split(X, y, test_size=0.2, random_state=42)\n",
    "\n",
    "    model = Sequential([\n",
    "    LSTM(50, return_sequences=True, input_shape=(X_train.shape[1], 1)),\n",
    "    LSTM(50, return_sequences=False),\n",
    "    Dense(25),\n",
    "    Dense(1)\n",
    "    ])\n",
    "    \n",
    "    model.compile(optimizer='adam', loss='mse')\n",
    "\n",
    "    model.fit(X_train, y_train, epochs=epochs, batch_size=batch_size, validation_data=(X_test, y_test), verbose=0)\n",
    "\n",
    "    # Make predictions\n",
    "    test_data = scaled_data[training_data_len - window_size:, :]\n",
    "    test_set = []\n",
    "    for i in range(window_size, len(test_data)):\n",
    "        test_set.append(test_data[i-window_size:i, 0])\n",
    "\n",
    "    test_set = np.array(test_set)\n",
    "    test_set = np.reshape(test_set, (test_set.shape[0], test_set.shape[1], 1))\n",
    "\n",
    "    prediction = model.predict(test_set)\n",
    "    scaled_pred = scaler.inverse_transform(prediction)\n",
    "\n",
    "    # Prepare results\n",
    "    valid = data[training_data_len:]\n",
    "    valid['Predictions'] = scaled_pred\n",
    "\n",
    "    return df, valid, scaled_pred"
   ]
  },
  {
   "cell_type": "markdown",
   "metadata": {},
   "source": [
    "### Analysis of Chip Industry Companies"
   ]
  },
  {
   "cell_type": "code",
   "execution_count": null,
   "metadata": {},
   "outputs": [],
   "source": []
  }
 ],
 "metadata": {
  "kernelspec": {
   "display_name": "base",
   "language": "python",
   "name": "python3"
  },
  "language_info": {
   "name": "python",
   "version": "3.11.5"
  }
 },
 "nbformat": 4,
 "nbformat_minor": 2
}
