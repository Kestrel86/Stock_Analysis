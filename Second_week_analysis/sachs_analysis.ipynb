{
 "cells": [
  {
   "cell_type": "code",
   "execution_count": 1,
   "metadata": {},
   "outputs": [],
   "source": [
    "import numpy as np\n",
    "import pandas as pd\n",
    "import seaborn as sns\n",
    "import plotly.express as px\n",
    "import plotly.graph_objects as go\n",
    "import matplotlib.pyplot as plt\n",
    "\n",
    "from datetime import datetime\n",
    "\n",
    "# yahoo Finance API library (useful?)\n",
    "import yfinance as yf\n",
    "\n",
    "import warnings\n",
    "warnings.filterwarnings(\"ignore\")\n",
    "\n",
    "from sklearn.metrics import mean_squared_error, r2_score\n",
    "from sklearn.preprocessing import MinMaxScaler\n",
    "from sklearn.model_selection import train_test_split\n",
    "\n",
    "from keras.models import Sequential\n",
    "from keras.layers import Dense, LSTM\n",
    "\n",
    "from pandas_datareader import data as pdr\n",
    "yf.pdr_override()"
   ]
  },
  {
   "cell_type": "code",
   "execution_count": 2,
   "metadata": {},
   "outputs": [
    {
     "name": "stderr",
     "output_type": "stream",
     "text": [
      "[*********************100%%**********************]  1 of 1 completed\n"
     ]
    }
   ],
   "source": [
    "end = datetime.now()\n",
    "start = datetime(end.year - 3, end.month, end.day)\n",
    "\n",
    "df_gs = globals()['GS'] = yf.download('GS', start, end)"
   ]
  },
  {
   "cell_type": "code",
   "execution_count": 3,
   "metadata": {},
   "outputs": [
    {
     "data": {
      "text/html": [
       "<div>\n",
       "<style scoped>\n",
       "    .dataframe tbody tr th:only-of-type {\n",
       "        vertical-align: middle;\n",
       "    }\n",
       "\n",
       "    .dataframe tbody tr th {\n",
       "        vertical-align: top;\n",
       "    }\n",
       "\n",
       "    .dataframe thead th {\n",
       "        text-align: right;\n",
       "    }\n",
       "</style>\n",
       "<table border=\"1\" class=\"dataframe\">\n",
       "  <thead>\n",
       "    <tr style=\"text-align: right;\">\n",
       "      <th></th>\n",
       "      <th>Open</th>\n",
       "      <th>High</th>\n",
       "      <th>Low</th>\n",
       "      <th>Close</th>\n",
       "      <th>Adj Close</th>\n",
       "      <th>Volume</th>\n",
       "    </tr>\n",
       "    <tr>\n",
       "      <th>Date</th>\n",
       "      <th></th>\n",
       "      <th></th>\n",
       "      <th></th>\n",
       "      <th></th>\n",
       "      <th></th>\n",
       "      <th></th>\n",
       "    </tr>\n",
       "  </thead>\n",
       "  <tbody>\n",
       "    <tr>\n",
       "      <th>2021-05-10</th>\n",
       "      <td>373.500000</td>\n",
       "      <td>376.980011</td>\n",
       "      <td>368.500000</td>\n",
       "      <td>368.679993</td>\n",
       "      <td>341.088654</td>\n",
       "      <td>3396300</td>\n",
       "    </tr>\n",
       "    <tr>\n",
       "      <th>2021-05-11</th>\n",
       "      <td>363.000000</td>\n",
       "      <td>368.630005</td>\n",
       "      <td>358.619995</td>\n",
       "      <td>359.920013</td>\n",
       "      <td>332.984253</td>\n",
       "      <td>3734300</td>\n",
       "    </tr>\n",
       "    <tr>\n",
       "      <th>2021-05-12</th>\n",
       "      <td>363.070007</td>\n",
       "      <td>368.130005</td>\n",
       "      <td>353.269989</td>\n",
       "      <td>354.399994</td>\n",
       "      <td>327.877350</td>\n",
       "      <td>3309800</td>\n",
       "    </tr>\n",
       "    <tr>\n",
       "      <th>2021-05-13</th>\n",
       "      <td>353.250000</td>\n",
       "      <td>360.890015</td>\n",
       "      <td>353.250000</td>\n",
       "      <td>358.809998</td>\n",
       "      <td>331.957306</td>\n",
       "      <td>2673900</td>\n",
       "    </tr>\n",
       "    <tr>\n",
       "      <th>2021-05-14</th>\n",
       "      <td>362.000000</td>\n",
       "      <td>369.510010</td>\n",
       "      <td>361.700012</td>\n",
       "      <td>368.769989</td>\n",
       "      <td>341.171906</td>\n",
       "      <td>2732300</td>\n",
       "    </tr>\n",
       "  </tbody>\n",
       "</table>\n",
       "</div>"
      ],
      "text/plain": [
       "                  Open        High         Low       Close   Adj Close  \\\n",
       "Date                                                                     \n",
       "2021-05-10  373.500000  376.980011  368.500000  368.679993  341.088654   \n",
       "2021-05-11  363.000000  368.630005  358.619995  359.920013  332.984253   \n",
       "2021-05-12  363.070007  368.130005  353.269989  354.399994  327.877350   \n",
       "2021-05-13  353.250000  360.890015  353.250000  358.809998  331.957306   \n",
       "2021-05-14  362.000000  369.510010  361.700012  368.769989  341.171906   \n",
       "\n",
       "             Volume  \n",
       "Date                 \n",
       "2021-05-10  3396300  \n",
       "2021-05-11  3734300  \n",
       "2021-05-12  3309800  \n",
       "2021-05-13  2673900  \n",
       "2021-05-14  2732300  "
      ]
     },
     "execution_count": 3,
     "metadata": {},
     "output_type": "execute_result"
    }
   ],
   "source": [
    "df_gs.head()"
   ]
  },
  {
   "cell_type": "markdown",
   "metadata": {},
   "source": []
  }
 ],
 "metadata": {
  "kernelspec": {
   "display_name": "base",
   "language": "python",
   "name": "python3"
  },
  "language_info": {
   "codemirror_mode": {
    "name": "ipython",
    "version": 3
   },
   "file_extension": ".py",
   "mimetype": "text/x-python",
   "name": "python",
   "nbconvert_exporter": "python",
   "pygments_lexer": "ipython3",
   "version": "3.11.5"
  }
 },
 "nbformat": 4,
 "nbformat_minor": 2
}
