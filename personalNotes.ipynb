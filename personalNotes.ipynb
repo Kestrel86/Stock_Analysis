{
 "cells": [
  {
   "cell_type": "markdown",
   "metadata": {},
   "source": [
    "# Notes for 10 minute video:\n"
   ]
  },
  {
   "cell_type": "markdown",
   "metadata": {},
   "source": [
    "The First report is very basic to what it was used for. Namely just analyzed the stocks performance over 3 years and analyzing its performance by reflecting what news reflected that performance. I wanted to establish what stocks to invest into by investigating the history of a stock and what types of demand there are today and before that may connect to the stocks rise or drop. Such example being Nvidia's sudden rise to 900 dollars in stock price within 2 years being due to the AI boom and Nvidia being in the forefront of it. See what trends cause a stock to change such as an earnings report causing investors to invest or sale and drastically affect a stock's price for that day.\n",
    "\n",
    "Second report intends to add more focus into a variety of stocks and compare their performance and search for a connection as a technique. I want to see what stocks are connected to a popular stock and may cause it to increase if the main stock increases."
   ]
  }
 ],
 "metadata": {
  "language_info": {
   "name": "python"
  }
 },
 "nbformat": 4,
 "nbformat_minor": 2
}
