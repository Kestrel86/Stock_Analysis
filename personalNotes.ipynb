{
 "cells": [
  {
   "cell_type": "markdown",
   "metadata": {},
   "source": [
    "# Notes for 10 minute video:\n"
   ]
  },
  {
   "cell_type": "markdown",
   "metadata": {},
   "source": [
    "The First report is very basic to what it was used for. Namely just analyzed the stocks performance over 3 years and analyzing its performance by reflecting what news reflected that performance.\n",
    "\n",
    "Second report intends to add more focus into a variety of stocks and compare their performance and search for a connection as a technique."
   ]
  }
 ],
 "metadata": {
  "language_info": {
   "name": "python"
  }
 },
 "nbformat": 4,
 "nbformat_minor": 2
}
